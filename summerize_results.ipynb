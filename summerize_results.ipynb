{
 "cells": [
  {
   "cell_type": "markdown",
   "id": "6b6ce0cc",
   "metadata": {},
   "source": [
    "### Get ground truth logZ"
   ]
  },
  {
   "cell_type": "code",
   "execution_count": null,
   "id": "f7255854",
   "metadata": {},
   "outputs": [
    {
     "name": "stdout",
     "output_type": "stream",
     "text": [
      "150.91159732172682\n"
     ]
    }
   ],
   "source": [
    "import numpy as np\n",
    "# Log Z for Manywell(d=32)\n",
    "# Z_x1 = 11784.50927\n",
    "# logZ_x2 = 0.5 * np.log(2 * np.pi)\n",
    "# logZ = 16 * np.log(Z_x1) + logZ_x2 # 16 = d/2\n",
    "\n",
    "# # Log Z for 25gmm\n",
    "# logZ = 0\n",
    "\n",
    "# # Log Z for funnel\n",
    "# logZ = 0\n",
    "\n",
    "# print(logZ)\n"
   ]
  },
  {
   "cell_type": "markdown",
   "id": "0f59620a",
   "metadata": {},
   "source": [
    "### Summerize Results"
   ]
  },
  {
   "cell_type": "code",
   "execution_count": null,
   "id": "5e289b24",
   "metadata": {},
   "outputs": [
    {
     "name": "stdout",
     "output_type": "stream",
     "text": [
      "delta_log_Z_b: mean = 11.1006, std = 0.0666\n",
      "delta_log_Z_f: mean = 13.8079, std = 0.1721\n",
      "2-Wasserstein: mean = 6.1552, std = 0.0250\n"
     ]
    }
   ],
   "source": [
    "import os\n",
    "import numpy as np\n",
    "\n",
    "result_dir = \"\"  \n",
    "\n",
    "delta_log_Z_r_list = []\n",
    "delta_log_Z_f_list = []\n",
    "w2_list = []\n",
    "\n",
    "\n",
    "for seed in [0, 1, 2, 3, 4]:\n",
    "    result_txt = os.path.join(result_dir, f\"seed_{seed}\", \"_results.txt\")\n",
    "    with open(result_txt, \"r\") as f:\n",
    "        for line in f:\n",
    "            if line.startswith(\"final_eval/log_Z_b:\"):\n",
    "                delta_log_Z_r_list.append(abs(float(line.strip().split(\":\")[1]) - logZ))\n",
    "            elif line.startswith(\"final_eval/log_Z_f:\"):\n",
    "                delta_log_Z_f_list.append(abs(float(line.strip().split(\":\")[1]) - logZ))\n",
    "            elif line.startswith(\"final_eval/2-Wasserstein:\"):\n",
    "                w2_list.append(float(line.strip().split(\":\")[1]))\n",
    "\n",
    "\n",
    "delta_log_Z_r_array = np.array(delta_log_Z_r_list)\n",
    "delta_log_Z_f_array = np.array(delta_log_Z_f_list)\n",
    "w2_array = np.array(w2_list)\n",
    "\n",
    "# 평균 및 표준편차 출력\n",
    "print(f\"delta_log_Z_r: mean = {delta_log_Z_r_array.mean():.4f}, std = {delta_log_Z_r_array.std():.4f}\")\n",
    "print(f\"delta_log_Z_f: mean = {delta_log_Z_f_array.mean():.4f}, std = {delta_log_Z_f_array.std():.4f}\")\n",
    "print(f\"2-Wasserstein: mean = {w2_array.mean():.4f}, std = {w2_array.std():.4f}\")\n"
   ]
  }
 ],
 "metadata": {
  "kernelspec": {
   "display_name": "gfn",
   "language": "python",
   "name": "python3"
  },
  "language_info": {
   "codemirror_mode": {
    "name": "ipython",
    "version": 3
   },
   "file_extension": ".py",
   "mimetype": "text/x-python",
   "name": "python",
   "nbconvert_exporter": "python",
   "pygments_lexer": "ipython3",
   "version": "3.10.0"
  }
 },
 "nbformat": 4,
 "nbformat_minor": 5
}
